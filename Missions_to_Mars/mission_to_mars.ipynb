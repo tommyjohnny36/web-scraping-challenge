{
 "cells": [
  {
   "cell_type": "code",
   "execution_count": 1,
   "id": "94e2e342",
   "metadata": {},
   "outputs": [],
   "source": [
    "import os\n",
    "from splinter import Browser\n",
    "from bs4 import BeautifulSoup as bs\n",
    "import time\n",
    "import re\n",
    "import requests\n",
    "import urllib.request\n",
    "import pandas as pd"
   ]
  },
  {
   "cell_type": "code",
   "execution_count": 2,
   "id": "49aac2f6",
   "metadata": {},
   "outputs": [],
   "source": [
    "executable_path = {'executable_path': r\"\\Users\\z0042xeh\\.wdm\\drivers\\chromedriver\\win32\\96.0.4664.45\\chromedriver.exe\"}\n",
    "browser = Browser('chrome', **executable_path, headless=False)\n",
    "\n",
    "news_url = \"https://redplanetscience.com/\"\n",
    "\n",
    "# setup browser for each url\n",
    "browser.visit(news_url)\n",
    "\n",
    "time.sleep(1)\n",
    "    \n",
    "#Scrape page\n",
    "news_html = browser.html\n",
    "news_soup = bs(news_html, \"lxml\")\n"
   ]
  },
  {
   "cell_type": "code",
   "execution_count": 3,
   "id": "0432463e",
   "metadata": {},
   "outputs": [],
   "source": [
    "# Get most recent news stories and assign to variable\n",
    "news_title = news_soup.find('div', 'content_title').text\n",
    "\n",
    "# Get most recent news story article text and assign to variable\n",
    "news_p = news_soup.find('div', 'article_teaser_body').text"
   ]
  },
  {
   "cell_type": "code",
   "execution_count": 4,
   "id": "1c3618df",
   "metadata": {},
   "outputs": [],
   "source": [
    "# URL to Mars Space Images\n",
    "image_url = \"https://spaceimages-mars.com/\"\n",
    "\n",
    "# setup browser for each url\n",
    "browser.visit(image_url)\n",
    "\n",
    "time.sleep(1)\n",
    "\n",
    "image_html = browser.html\n",
    "image_soup = bs(image_html, \"lxml\")"
   ]
  },
  {
   "cell_type": "code",
   "execution_count": 5,
   "id": "20f91913",
   "metadata": {},
   "outputs": [],
   "source": [
    "# Locate the featured image using image_soup(bs)\n",
    "featured_image = image_soup.find(\"img\", class_=\"headerimage fade-in\")['src']"
   ]
  },
  {
   "cell_type": "code",
   "execution_count": 6,
   "id": "286c92da",
   "metadata": {},
   "outputs": [],
   "source": [
    "# Create a url out of the url for the index.html & the featured image location\n",
    "featured_image_url = image_url + featured_image"
   ]
  },
  {
   "cell_type": "code",
   "execution_count": 7,
   "id": "9fe2068d",
   "metadata": {},
   "outputs": [],
   "source": [
    "facts_url = 'https://galaxyfacts-mars.com'"
   ]
  },
  {
   "cell_type": "code",
   "execution_count": 12,
   "id": "d74ac1b2",
   "metadata": {},
   "outputs": [],
   "source": [
    "facts_table = pd.read_html(facts_url)"
   ]
  },
  {
   "cell_type": "code",
   "execution_count": 9,
   "id": "23c84c44",
   "metadata": {},
   "outputs": [],
   "source": [
    "facts_df = facts_table[0]"
   ]
  },
  {
   "cell_type": "code",
   "execution_count": 13,
   "id": "a7d9ea6d",
   "metadata": {
    "scrolled": false
   },
   "outputs": [],
   "source": [
    "html_table = facts_df.to_html('facts_tab_html.html')"
   ]
  },
  {
   "cell_type": "code",
   "execution_count": 14,
   "id": "9e8125df",
   "metadata": {},
   "outputs": [],
   "source": [
    "hem_url = 'https://marshemispheres.com/'\n",
    "\n",
    "browser.visit(hem_url)\n",
    "\n",
    "time.sleep(1)\n",
    "    \n",
    "hem_html = browser.html\n",
    "hem_soup = bs(hem_html, \"lxml\")"
   ]
  },
  {
   "cell_type": "code",
   "execution_count": 15,
   "id": "069fc85c",
   "metadata": {},
   "outputs": [],
   "source": [
    "def init_browser():\n",
    "    executable_path = {\"executable_path\": r\"\\Users\\z0042xeh\\.wdm\\drivers\\chromedriver\\win32\\96.0.4664.45\\chromedriver.exe\"}\n",
    "    return Browser(\"chrome\", **executable_path, headless=False)\n",
    "\n",
    "\n",
    "def scrape_img(search_url):\n",
    "    # Retrieve page with the requests module\n",
    "    response = requests.get(search_url)\n",
    "    # create soup object\n",
    "    soup = bs(response.text, \"html5lib\")\n",
    "    # store high-res img URL in variable 'hem_img_url' & then add to the 'hem_url' to create a complete URL\n",
    "    hem_img_url = soup.find('img', class_='wide-image')['src']\n",
    "    final_img_url = hem_url + hem_img_url\n",
    "    # store the image_url information into dictionary\n",
    "    title_img_dicts['image_url'] = final_img_url\n",
    "    \n",
    "    return (title_img_dicts['image_url'])\n",
    "            \n",
    "            \n",
    "def dict_to_list(title_img_dicts):\n",
    "    new_dict = {}\n",
    "    \n",
    "    copy_dict = title_img_dicts.copy()\n",
    "    new_dict.update(copy_dict)\n",
    "    \n",
    "    return (new_dict)\n"
   ]
  },
  {
   "cell_type": "code",
   "execution_count": 16,
   "id": "7a31e82f",
   "metadata": {},
   "outputs": [],
   "source": [
    "# * Save both the image url string for the full resolution hemisphere image, and the Hemisphere title containing the hemisphere name. \n",
    "# Use a Python dictionary to store the data using the keys `img_url` and `title`.\n",
    "\n",
    "# The location of all img and title information that's needed\n",
    "img_containers = hem_soup.find_all('div', class_='item')\n",
    "\n",
    "# list to hold the 'thumb' img reference links\n",
    "img_url = []\n",
    "\n",
    "# dictionary that holds both the title information & full url to img\n",
    "title_img_dicts = {}\n",
    "\n",
    "# list that will hold each dictionary of title and full img url\n",
    "hemisphere_img_urls = []\n",
    "\n",
    "# for loop to go through each of the img_containers and extract the title and full img_url\n",
    "for img in img_containers:\n",
    "    title_img_dicts['title'] = img.find('h3').text\n",
    "\n",
    "    # store img 'href' in variable 'img_link' and then append that to the 'img_url_list'\n",
    "    img_link = img.find('a', class_='itemLink product-item')['href']\n",
    "    img_url.append(img_link)\n",
    "\n",
    "    # store the full URL to the image, so that the program knows where to get the information\n",
    "    img_url_list = [hem_url + url for url in img_url]\n",
    "    \n",
    "    for search_url in img_url_list:\n",
    "        scrape_img(search_url)\n",
    "    \n",
    "# Append the dictionary with the image url string and the hemisphere title to a list. This list will contain one dictionary \n",
    "# for each hemisphere.\n",
    "\n",
    "    hemisphere_img_urls.append(dict_to_list(title_img_dicts))\n"
   ]
  },
  {
   "cell_type": "code",
   "execution_count": 17,
   "id": "58a5c918",
   "metadata": {},
   "outputs": [],
   "source": [
    "# Store all data into a single dictionary\n",
    "mars_data = {\n",
    "    \"Most Recent Headline\": news_title,\n",
    "    \"Recent Headline Teaser\": news_p,\n",
    "    \"Featured Image\": featured_image_url,\n",
    "    \"Mars Facts\": html_table,\n",
    "    \"Mars Hemispheres\": hemisphere_img_urls}"
   ]
  },
  {
   "cell_type": "code",
   "execution_count": 18,
   "id": "3a957b11",
   "metadata": {},
   "outputs": [
    {
     "data": {
      "text/plain": [
       "{'Most Recent Headline': \"NASA's Perseverance Rover Will Carry First Spacesuit Materials to Mars\",\n",
       " 'Recent Headline Teaser': 'In a Q&A, spacesuit designer Amy Ross explains how five samples, including a piece of helmet visor, will be tested aboard the rover, which is targeting a July 30 launch. ',\n",
       " 'Featured Image': 'https://spaceimages-mars.com/image/featured/mars1.jpg',\n",
       " 'Mars Facts': None,\n",
       " 'Mars Hemispheres': [{'title': 'Cerberus Hemisphere Enhanced',\n",
       "   'image_url': 'https://marshemispheres.com/images/f5e372a36edfa389625da6d0cc25d905_cerberus_enhanced.tif_full.jpg'},\n",
       "  {'title': 'Schiaparelli Hemisphere Enhanced',\n",
       "   'image_url': 'https://marshemispheres.com/images/3778f7b43bbbc89d6e3cfabb3613ba93_schiaparelli_enhanced.tif_full.jpg'},\n",
       "  {'title': 'Syrtis Major Hemisphere Enhanced',\n",
       "   'image_url': 'https://marshemispheres.com/images/555e6403a6ddd7ba16ddb0e471cadcf7_syrtis_major_enhanced.tif_full.jpg'},\n",
       "  {'title': 'Valles Marineris Hemisphere Enhanced',\n",
       "   'image_url': 'https://marshemispheres.com/images/b3c7c6c9138f57b4756be9b9c43e3a48_valles_marineris_enhanced.tif_full.jpg'}]}"
      ]
     },
     "execution_count": 18,
     "metadata": {},
     "output_type": "execute_result"
    }
   ],
   "source": [
    "mars_data"
   ]
  },
  {
   "cell_type": "code",
   "execution_count": null,
   "id": "2143dc5e",
   "metadata": {},
   "outputs": [],
   "source": []
  }
 ],
 "metadata": {
  "kernelspec": {
   "display_name": "Python 3",
   "language": "python",
   "name": "python3"
  },
  "language_info": {
   "codemirror_mode": {
    "name": "ipython",
    "version": 3
   },
   "file_extension": ".py",
   "mimetype": "text/x-python",
   "name": "python",
   "nbconvert_exporter": "python",
   "pygments_lexer": "ipython3",
   "version": "3.8.12"
  }
 },
 "nbformat": 4,
 "nbformat_minor": 5
}
